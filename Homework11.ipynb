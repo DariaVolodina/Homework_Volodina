{
 "cells": [
  {
   "cell_type": "code",
   "execution_count": 19,
   "id": "7491fe3d",
   "metadata": {},
   "outputs": [
    {
     "data": {
      "text/plain": [
       "array([50, 11, 59, 79, 99, 34, 84, 81, 81, 78, 94, 90, 97, 63,  9, 19, 45,\n",
       "       21, 21, 21, 82, 15, 27, 45, 47, 35, 46, 37, 69, 38, 27, 12, 57, 16,\n",
       "       48, 20])"
      ]
     },
     "execution_count": 19,
     "metadata": {},
     "output_type": "execute_result"
    }
   ],
   "source": [
    "import numpy as np\n",
    "import random\n",
    "array1 = np.random.randint(1, 100, 36)\n",
    "array1"
   ]
  },
  {
   "cell_type": "code",
   "execution_count": 4,
   "id": "6f946a9f",
   "metadata": {},
   "outputs": [
    {
     "data": {
      "text/plain": [
       "array([ 10,  12,  15,  17,  20,  22,  25,  28,  30,  33,  35,  38,  40,\n",
       "        43,  46,  48,  51,  53,  56,  58,  61,  64,  66,  69,  71,  74,\n",
       "        76,  79,  82,  84,  87,  89,  92,  94,  97, 100])"
      ]
     },
     "execution_count": 4,
     "metadata": {},
     "output_type": "execute_result"
    }
   ],
   "source": [
    "array2 = np.linspace(10, 100, 36, dtype = int)\n",
    "array2"
   ]
  },
  {
   "cell_type": "code",
   "execution_count": 15,
   "id": "6197d9d5",
   "metadata": {},
   "outputs": [
    {
     "data": {
      "text/plain": [
       "array([  6,  12,  18,  24,  30,  36,  42,  48,  54,  60,  66,  72,  78,\n",
       "        84,  90,  96, 102, 108, 114, 120, 126, 132, 138, 144, 150, 156,\n",
       "       162, 168, 174, 180, 186, 192, 198, 204, 210, 216])"
      ]
     },
     "execution_count": 15,
     "metadata": {},
     "output_type": "execute_result"
    }
   ],
   "source": [
    "array3 = np.arange(6, 220, 6)\n",
    "array3"
   ]
  },
  {
   "cell_type": "code",
   "execution_count": 16,
   "id": "65743081",
   "metadata": {},
   "outputs": [
    {
     "data": {
      "text/plain": [
       "36"
      ]
     },
     "execution_count": 16,
     "metadata": {},
     "output_type": "execute_result"
    }
   ],
   "source": [
    "array3.size\n"
   ]
  },
  {
   "cell_type": "code",
   "execution_count": 20,
   "id": "6e3a824e",
   "metadata": {},
   "outputs": [
    {
     "data": {
      "text/plain": [
       "array([ 56,  23,  77, 103, 129,  70, 126, 129, 135, 138, 160, 162, 175,\n",
       "       147,  99, 115, 147, 129, 135, 141, 208, 147, 165, 189, 197, 191,\n",
       "       208, 205, 243, 218, 213, 204, 255, 220, 258, 236])"
      ]
     },
     "execution_count": 20,
     "metadata": {},
     "output_type": "execute_result"
    }
   ],
   "source": [
    "array1 + array3"
   ]
  },
  {
   "cell_type": "code",
   "execution_count": 21,
   "id": "b1cc3ecf",
   "metadata": {},
   "outputs": [
    {
     "data": {
      "text/plain": [
       "array([-44,   1, -41, -55, -69,   2, -42, -33, -27, -18, -28, -18, -19,\n",
       "        21,  81,  77,  57,  87,  93,  99,  44, 117, 111,  99, 103, 121,\n",
       "       116, 131, 105, 142, 159, 180, 141, 188, 162, 196])"
      ]
     },
     "execution_count": 21,
     "metadata": {},
     "output_type": "execute_result"
    }
   ],
   "source": [
    "array3 - array1"
   ]
  },
  {
   "cell_type": "code",
   "execution_count": 22,
   "id": "3063d853",
   "metadata": {},
   "outputs": [
    {
     "data": {
      "text/plain": [
       "array([ 500,  132,  885, 1343, 1980,  748, 2100, 2268, 2430, 2574, 3290,\n",
       "       3420, 3880, 2709,  414,  912, 2295, 1113, 1176, 1218, 5002,  960,\n",
       "       1782, 3105, 3337, 2590, 3496, 2923, 5658, 3192, 2349, 1068, 5244,\n",
       "       1504, 4656, 2000])"
      ]
     },
     "execution_count": 22,
     "metadata": {},
     "output_type": "execute_result"
    }
   ],
   "source": [
    "array1 * array2"
   ]
  },
  {
   "cell_type": "code",
   "execution_count": 23,
   "id": "74ed222f",
   "metadata": {},
   "outputs": [
    {
     "data": {
      "text/plain": [
       "array([0.6       , 1.        , 1.2       , 1.41176471, 1.5       ,\n",
       "       1.63636364, 1.68      , 1.71428571, 1.8       , 1.81818182,\n",
       "       1.88571429, 1.89473684, 1.95      , 1.95348837, 1.95652174,\n",
       "       2.        , 2.        , 2.03773585, 2.03571429, 2.06896552,\n",
       "       2.06557377, 2.0625    , 2.09090909, 2.08695652, 2.11267606,\n",
       "       2.10810811, 2.13157895, 2.12658228, 2.12195122, 2.14285714,\n",
       "       2.13793103, 2.15730337, 2.15217391, 2.17021277, 2.16494845,\n",
       "       2.16      ])"
      ]
     },
     "execution_count": 23,
     "metadata": {},
     "output_type": "execute_result"
    }
   ],
   "source": [
    "array3 / array2"
   ]
  },
  {
   "cell_type": "code",
   "execution_count": 24,
   "id": "335b66e6",
   "metadata": {},
   "outputs": [
    {
     "data": {
      "text/plain": [
       "(36,)"
      ]
     },
     "execution_count": 24,
     "metadata": {},
     "output_type": "execute_result"
    }
   ],
   "source": [
    "array1.shape"
   ]
  },
  {
   "cell_type": "code",
   "execution_count": 36,
   "id": "2e421ff0",
   "metadata": {},
   "outputs": [
    {
     "data": {
      "text/plain": [
       "array([[50, 11, 59, 79, 99, 34],\n",
       "       [84, 81, 81, 78, 94, 90],\n",
       "       [97, 63,  9, 19, 45, 21],\n",
       "       [21, 21, 82, 15, 27, 45],\n",
       "       [47, 35, 46, 37, 69, 38],\n",
       "       [27, 12, 57, 16, 48, 20]])"
      ]
     },
     "execution_count": 36,
     "metadata": {},
     "output_type": "execute_result"
    }
   ],
   "source": [
    "array1.reshape(6, 6)"
   ]
  },
  {
   "cell_type": "code",
   "execution_count": 27,
   "id": "a74c5076",
   "metadata": {},
   "outputs": [
    {
     "data": {
      "text/plain": [
       "array([[ 10,  12,  15,  17,  20,  22,  25,  28,  30,  33,  35,  38],\n",
       "       [ 40,  43,  46,  48,  51,  53,  56,  58,  61,  64,  66,  69],\n",
       "       [ 71,  74,  76,  79,  82,  84,  87,  89,  92,  94,  97, 100]])"
      ]
     },
     "execution_count": 27,
     "metadata": {},
     "output_type": "execute_result"
    }
   ],
   "source": [
    "array2.reshape(3, 12)"
   ]
  },
  {
   "cell_type": "code",
   "execution_count": 28,
   "id": "eae10a3c",
   "metadata": {},
   "outputs": [
    {
     "data": {
      "text/plain": [
       "array([[  6,  12,  18,  24,  30,  36,  42,  48,  54,  60,  66,  72,  78,\n",
       "         84,  90,  96, 102, 108],\n",
       "       [114, 120, 126, 132, 138, 144, 150, 156, 162, 168, 174, 180, 186,\n",
       "        192, 198, 204, 210, 216]])"
      ]
     },
     "execution_count": 28,
     "metadata": {},
     "output_type": "execute_result"
    }
   ],
   "source": [
    "array3.reshape(2, 18)"
   ]
  },
  {
   "cell_type": "code",
   "execution_count": 37,
   "id": "63bd87e6",
   "metadata": {},
   "outputs": [
    {
     "data": {
      "text/plain": [
       "array([97, 81, 82, 79, 99, 90])"
      ]
     },
     "execution_count": 37,
     "metadata": {},
     "output_type": "execute_result"
    }
   ],
   "source": [
    "array1.max(axis=0)"
   ]
  },
  {
   "cell_type": "code",
   "execution_count": 35,
   "id": "3c239799",
   "metadata": {},
   "outputs": [
    {
     "data": {
      "text/plain": [
       "array([99, 94, 97, 82, 69, 57])"
      ]
     },
     "execution_count": 35,
     "metadata": {},
     "output_type": "execute_result"
    }
   ],
   "source": [
    "array1.max(axis=1)"
   ]
  },
  {
   "cell_type": "code",
   "execution_count": 39,
   "id": "fcca6f7b",
   "metadata": {},
   "outputs": [
    {
     "data": {
      "text/plain": [
       "99"
      ]
     },
     "execution_count": 39,
     "metadata": {},
     "output_type": "execute_result"
    }
   ],
   "source": [
    "array1.max()"
   ]
  },
  {
   "cell_type": "code",
   "execution_count": 41,
   "id": "a3a45579",
   "metadata": {},
   "outputs": [
    {
     "data": {
      "text/plain": [
       "100"
      ]
     },
     "execution_count": 41,
     "metadata": {},
     "output_type": "execute_result"
    }
   ],
   "source": [
    "array2.max()"
   ]
  },
  {
   "cell_type": "code",
   "execution_count": 42,
   "id": "fd1dd567",
   "metadata": {},
   "outputs": [
    {
     "data": {
      "text/plain": [
       "216"
      ]
     },
     "execution_count": 42,
     "metadata": {},
     "output_type": "execute_result"
    }
   ],
   "source": [
    "array3.max()"
   ]
  },
  {
   "cell_type": "code",
   "execution_count": 43,
   "id": "1ac067bd",
   "metadata": {},
   "outputs": [
    {
     "data": {
      "text/plain": [
       "9"
      ]
     },
     "execution_count": 43,
     "metadata": {},
     "output_type": "execute_result"
    }
   ],
   "source": [
    "array1.min()"
   ]
  },
  {
   "cell_type": "code",
   "execution_count": 44,
   "id": "d7e5a97c",
   "metadata": {},
   "outputs": [
    {
     "data": {
      "text/plain": [
       "10"
      ]
     },
     "execution_count": 44,
     "metadata": {},
     "output_type": "execute_result"
    }
   ],
   "source": [
    "array2.min()"
   ]
  },
  {
   "cell_type": "code",
   "execution_count": 53,
   "id": "bb0b3ba9",
   "metadata": {},
   "outputs": [
    {
     "data": {
      "text/plain": [
       "array([[ 10,  12,  15,  17,  20,  22],\n",
       "       [ 25,  28,  30,  33,  35,  38],\n",
       "       [ 40,  43,  46,  48,  51,  53],\n",
       "       [ 56,  58,  61,  64,  66,  69],\n",
       "       [ 71,  74,  76,  79,  82,  84],\n",
       "       [ 87,  89,  92,  94,  97, 100]])"
      ]
     },
     "execution_count": 53,
     "metadata": {},
     "output_type": "execute_result"
    }
   ],
   "source": [
    "array2 = array2.reshape(6,6)\n",
    "array2"
   ]
  },
  {
   "cell_type": "code",
   "execution_count": 55,
   "id": "ab745c0b",
   "metadata": {},
   "outputs": [
    {
     "data": {
      "text/plain": [
       "array([[ 60,  23,  74,  96, 119,  56],\n",
       "       [109, 109, 111, 111, 129, 128],\n",
       "       [137, 106,  55,  67,  96,  74],\n",
       "       [ 77,  79, 143,  79,  93, 114],\n",
       "       [118, 109, 122, 116, 151, 122],\n",
       "       [114, 101, 149, 110, 145, 120]])"
      ]
     },
     "execution_count": 55,
     "metadata": {},
     "output_type": "execute_result"
    }
   ],
   "source": [
    "array4 = array1 + array2\n",
    "array4"
   ]
  },
  {
   "cell_type": "code",
   "execution_count": 56,
   "id": "ca184b35",
   "metadata": {},
   "outputs": [
    {
     "data": {
      "text/plain": [
       "151"
      ]
     },
     "execution_count": 56,
     "metadata": {},
     "output_type": "execute_result"
    }
   ],
   "source": [
    "array4.max()"
   ]
  },
  {
   "cell_type": "code",
   "execution_count": 59,
   "id": "4b3fda64",
   "metadata": {},
   "outputs": [
    {
     "data": {
      "text/plain": [
       "array([[ 60,  23,  74,  96],\n",
       "       [119,  56, 109, 109],\n",
       "       [111, 111, 129, 128],\n",
       "       [137, 106,  55,  67],\n",
       "       [ 96,  74,  77,  79],\n",
       "       [143,  79,  93, 114],\n",
       "       [118, 109, 122, 116],\n",
       "       [151, 122, 114, 101],\n",
       "       [149, 110, 145, 120]])"
      ]
     },
     "execution_count": 59,
     "metadata": {},
     "output_type": "execute_result"
    }
   ],
   "source": [
    "array4.reshape(9, -1)"
   ]
  },
  {
   "cell_type": "code",
   "execution_count": null,
   "id": "cb1e8b53",
   "metadata": {},
   "outputs": [],
   "source": []
  }
 ],
 "metadata": {
  "kernelspec": {
   "display_name": "Python 3 (ipykernel)",
   "language": "python",
   "name": "python3"
  },
  "language_info": {
   "codemirror_mode": {
    "name": "ipython",
    "version": 3
   },
   "file_extension": ".py",
   "mimetype": "text/x-python",
   "name": "python",
   "nbconvert_exporter": "python",
   "pygments_lexer": "ipython3",
   "version": "3.9.13"
  }
 },
 "nbformat": 4,
 "nbformat_minor": 5
}
